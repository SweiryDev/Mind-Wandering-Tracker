{
 "cells": [
  {
   "cell_type": "markdown",
   "id": "aa6154d5",
   "metadata": {},
   "source": [
    "# Test models performences"
   ]
  },
  {
   "cell_type": "code",
   "execution_count": null,
   "id": "44489fe3",
   "metadata": {},
   "outputs": [
    {
     "name": "stderr",
     "output_type": "stream",
     "text": [
      "2025-06-03 23:59:22.333279: E external/local_xla/xla/stream_executor/cuda/cuda_fft.cc:467] Unable to register cuFFT factory: Attempting to register factory for plugin cuFFT when one has already been registered\n",
      "WARNING: All log messages before absl::InitializeLog() is called are written to STDERR\n",
      "E0000 00:00:1748984362.401024  136323 cuda_dnn.cc:8579] Unable to register cuDNN factory: Attempting to register factory for plugin cuDNN when one has already been registered\n",
      "E0000 00:00:1748984362.420425  136323 cuda_blas.cc:1407] Unable to register cuBLAS factory: Attempting to register factory for plugin cuBLAS when one has already been registered\n",
      "W0000 00:00:1748984362.573408  136323 computation_placer.cc:177] computation placer already registered. Please check linkage and avoid linking the same target more than once.\n",
      "W0000 00:00:1748984362.573437  136323 computation_placer.cc:177] computation placer already registered. Please check linkage and avoid linking the same target more than once.\n",
      "W0000 00:00:1748984362.573440  136323 computation_placer.cc:177] computation placer already registered. Please check linkage and avoid linking the same target more than once.\n",
      "W0000 00:00:1748984362.573441  136323 computation_placer.cc:177] computation placer already registered. Please check linkage and avoid linking the same target more than once.\n",
      "2025-06-03 23:59:22.593360: I tensorflow/core/platform/cpu_feature_guard.cc:210] This TensorFlow binary is optimized to use available CPU instructions in performance-critical operations.\n",
      "To enable the following instructions: AVX2 FMA, in other operations, rebuild TensorFlow with the appropriate compiler flags.\n"
     ]
    },
    {
     "data": {
      "image/png": "[encoded data removed]",
      "text/plain": [
       "<Figure size 640x480 with 1 Axes>"
      ]
     },
     "metadata": {},
     "output_type": "display_data"
    },
    {
     "ename": "",
     "evalue": "",
     "output_type": "error",
     "traceback": [
      "\u001b[1;31mThe Kernel crashed while executing code in the current cell or a previous cell. \n",
      "\u001b[1;31mPlease review the code in the cell(s) to identify a possible cause of the failure. \n",
      "\u001b[1;31mClick <a href='https://aka.ms/vscodeJupyterKernelCrash'>here</a> for more info. \n",
      "\u001b[1;31mView Jupyter <a href='command:jupyter.viewOutput'>log</a> for further details."
     ]
    }
   ],
   "source": [
    "# import modules and load data\n",
    "import numpy as np\n",
    "import tensorflow as tf\n",
    "from tensorflow.keras import layers\n",
    "\n",
    "import glob\n",
    "import os\n",
    "\n",
    "import matplotlib.pyplot as plt\n",
    "from sklearn.model_selection import train_test_split\n",
    "\n",
    "# Load input and output data\n",
    "X = np.load(\"../data/processed/input.npy\")\n",
    "Y = np.load(\"../data/processed/output.npy\")\n",
    "\n",
    "# TODO: Custom shuffle for RNN model\n",
    "x_train_s, x_val_s, y_train_s, y_val_s = train_test_split(X, Y, test_size=0.2, shuffle=False)\n",
    "x_train_s, x_test_s, y_train_s, y_test_s = train_test_split(x_train_s, y_train_s, test_size=0.25, shuffle=False)\n",
    "\n",
    "# 60% train data\n",
    "# 20% validation data\n",
    "# 20% test data\n",
    "\n",
    "plt.plot(range(len(y_val_s)), y_val_s)\n",
    "plt.show()"
   ]
  },
  {
   "cell_type": "markdown",
   "id": "c3f51f40",
   "metadata": {},
   "source": [
    "#### Model 1"
   ]
  },
  {
   "cell_type": "code",
   "execution_count": null,
   "id": "22558c02",
   "metadata": {},
   "outputs": [],
   "source": [
    "from model import create_sequences\n",
    "\n",
    "# Number of frames fed into the LSTM layer at one time\n",
    "sequence_length = 20*30\n",
    "\n",
    "# FIX IT\n",
    "# Reshape the data from (n, 14) to (n, sequence_length, 14)\n",
    "x_train, y_train = create_sequences(x_train_s, y_train_s, sequence_length)\n",
    "x_val, y_val = create_sequences(x_val_s, y_val_s, sequence_length)\n",
    "x_test, y_test = create_sequences(x_test_s, y_test_s, sequence_length)\n",
    "\n",
    "# Adapt the normlizer layer to the feature axis in the input data\n",
    "normalizer = layers.Normalization(axis=-1)\n",
    "normalizer.adapt(x_train)\n",
    "\n",
    "# Define the model \n",
    "model = tf.keras.Sequential([\n",
    "    layers.InputLayer(input_shape=(sequence_length,14)),\n",
    "    normalizer,\n",
    "    # layers.SimpleRNN(1024, input_shape=(1,14) ,return_sequences=False),  # or use LSTM/GRU\n",
    "    layers.LSTM(512, input_shape=(sequence_length,14), recurrent_dropout=0.2),\n",
    "    layers.Dense(256, activation='relu'),\n",
    "    layers.Dropout(0.2),\n",
    "    layers.Dense(128, activation='relu'),\n",
    "    layers.Dropout(0.2),\n",
    "    layers.Dense(64, activation='relu'),\n",
    "    layers.Dropout(0.1),\n",
    "    layers.Dense(1, activation='sigmoid')  # Output a single scalar\n",
    "])\n",
    "\n",
    "model.compile(optimizer='adam', loss='binary_crossentropy', metrics=['accuracy'])\n",
    "\n",
    "# Train model (20 epochs atleast)\n",
    "history = model.fit(x_train, y_train, validation_data=(x_val, y_val), epochs=1, batch_size=64)\n"
   ]
  },
  {
   "cell_type": "markdown",
   "id": "06eef72f",
   "metadata": {},
   "source": [
    "## Test Performences"
   ]
  },
  {
   "cell_type": "code",
   "execution_count": null,
   "id": "b9c97ee0",
   "metadata": {},
   "outputs": [],
   "source": [
    "from sklearn.metrics import confusion_matrix, classification_report, ConfusionMatrixDisplay\n",
    "import warnings\n",
    "\n",
    "warnings.filterwarnings('ignore')\n",
    "\n",
    "# Model 1\n",
    "print(\"==== MODEL #1 ====\")\n",
    "\n",
    "# Predict probabilities\n",
    "y1_prob = model.predict(x_test)\n",
    "\n",
    "# Convert probabilities to binary predictions (> 50% for positive prediction)\n",
    "y1_pred = (y1_prob >= 0.5).astype(int).squeeze() \n",
    "\n",
    "# Confusion Matrix\n",
    "cm1 = confusion_matrix(y_test, y1_pred)\n",
    "disp1 = ConfusionMatrixDisplay(cm1)\n",
    "\n",
    "print(\"Probability Plot:\")\n",
    "plt.plot(range(len(y1_prob)), y1_prob)\n",
    "plt.show()\n",
    "\n",
    "print(\"Predition/Test Plot:\")\n",
    "plt.plot(range(len(y1_pred)), y1_pred, y_test)\n",
    "plt.show()\n",
    "\n",
    "# Classification Report\n",
    "report1 = classification_report(y_test, y1_pred)\n",
    "\n",
    "disp1.plot()\n",
    "print(\"Classification Report:\\n\", report1)\n"
   ]
  }
 ],
 "metadata": {
  "kernelspec": {
   "display_name": "Python 3",
   "language": "python",
   "name": "python3"
  },
  "language_info": {
   "codemirror_mode": {
    "name": "ipython",
    "version": 3
   },
   "file_extension": ".py",
   "mimetype": "text/x-python",
   "name": "python",
   "nbconvert_exporter": "python",
   "pygments_lexer": "ipython3",
   "version": "3.10.12"
  }
 },
 "nbformat": 4,
 "nbformat_minor": 5
}
