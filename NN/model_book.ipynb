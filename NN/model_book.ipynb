{
 "cells": [
  {
   "cell_type": "markdown",
   "id": "aa6154d5",
   "metadata": {},
   "source": [
    "# Test models performences"
   ]
  },
  {
   "cell_type": "code",
   "execution_count": 62,
   "id": "44489fe3",
   "metadata": {},
   "outputs": [],
   "source": [
    "# import modules and load data\n",
    "\n",
    "import numpy as np\n",
    "import tensorflow as tf\n",
    "from tensorflow.keras import layers\n",
    "\n",
    "from sklearn.model_selection import train_test_split\n",
    "\n",
    "# Load input and output data\n",
    "X = np.load(\"../data/AmitS_landmark.npy\")\n",
    "Y = np.load(\"../data/AmitS_distance.npy\")\n",
    "\n",
    "# Manipulate the data \n",
    "\n",
    "# Round output data to binary\n",
    "middle_distance = np.max(Y) // 2\n",
    "roundOut = np.vectorize(lambda t: 1 if (t < middle_distance) else 0)\n",
    "Y = roundOut(Y)\n",
    "Y = np.concatenate((np.split(Y, [30])[1], np.zeros(30)))\n",
    "\n",
    "# Split the data (Don't shuffle! sequntial data should stay in order)\n",
    "# x_train, x_test, y_train, y_test = train_test_split(X, Y, test_size=0.1, shuffle=False)\n",
    "# x_test, x_val, y_test, y_val = train_test_split(x_test, y_test, test_size=0.2, shuffle=False ) \n",
    "\n",
    "x_train, x_val, y_train, y_val = train_test_split(X, Y, test_size=0.1, shuffle=False)\n",
    "x_train, x_test, y_train, y_test = train_test_split(x_val, y_val, test_size=0.2, shuffle=False)"
   ]
  },
  {
   "cell_type": "markdown",
   "id": "c3f51f40",
   "metadata": {},
   "source": [
    "#### Model 1"
   ]
  },
  {
   "cell_type": "code",
   "execution_count": 105,
   "id": "22558c02",
   "metadata": {},
   "outputs": [
    {
     "name": "stdout",
     "output_type": "stream",
     "text": [
      "Epoch 1/2\n",
      "186/186 [==============================] - 2s 10ms/step - loss: 0.6934 - accuracy: 0.5451 - val_loss: 0.6573 - val_accuracy: 0.8016\n",
      "Epoch 2/2\n",
      "186/186 [==============================] - 2s 10ms/step - loss: 0.6884 - accuracy: 0.5596 - val_loss: 0.6403 - val_accuracy: 0.8016\n"
     ]
    }
   ],
   "source": [
    "\n",
    "# Define the model \n",
    "model = tf.keras.Sequential([\n",
    "    layers.Input(shape=(68,2)),\n",
    "    layers.SimpleRNN(256, return_sequences=False),  # or use LSTM/GRU\n",
    "    layers.Dense(256, activation='relu'),\n",
    "    layers.Dense(128, activation='relu'),\n",
    "    layers.Dense(64, activation='relu'),\n",
    "    layers.Dense(32, activation='relu'),\n",
    "    layers.Dense(1, activation='sigmoid')  # Output a single scalar\n",
    "])\n",
    "\n",
    "model.compile(optimizer='adam', loss='binary_crossentropy', metrics=['accuracy'])\n",
    "\n",
    "# Train model\n",
    "history = model.fit(x_train, y_train, validation_data=(x_test, y_test), epochs=2, batch_size=16)\n"
   ]
  },
  {
   "cell_type": "markdown",
   "id": "06eef72f",
   "metadata": {},
   "source": [
    "## Test Performences"
   ]
  },
  {
   "cell_type": "code",
   "execution_count": 107,
   "id": "b9c97ee0",
   "metadata": {},
   "outputs": [
    {
     "name": "stdout",
     "output_type": "stream",
     "text": [
      "==== MODEL #1 ====\n",
      "116/116 [==============================] - 0s 4ms/step\n",
      "Decision Level: 0.45260974764823914\n",
      "Classification Report:\n",
      "               precision    recall  f1-score   support\n",
      "\n",
      "         0.0       0.77      0.06      0.12      2251\n",
      "         1.0       0.40      0.97      0.57      1451\n",
      "\n",
      "    accuracy                           0.42      3702\n",
      "   macro avg       0.58      0.52      0.34      3702\n",
      "weighted avg       0.62      0.42      0.29      3702\n",
      "\n"
     ]
    },
    {
     "data": {
      "image/png": "[encoded data removed]",
      "text/plain": [
       "<Figure size 640x480 with 2 Axes>"
      ]
     },
     "metadata": {},
     "output_type": "display_data"
    }
   ],
   "source": [
    "import matplotlib.pyplot as plt\n",
    "from sklearn.metrics import confusion_matrix, classification_report, ConfusionMatrixDisplay\n",
    "import warnings\n",
    "\n",
    "warnings.filterwarnings('ignore')\n",
    "\n",
    "# Model 1\n",
    "print(\"==== MODEL #1 ====\")\n",
    "\n",
    "# Predict probabilities\n",
    "y1_prob = model.predict(x_val)\n",
    "\n",
    "decision_level = np.mean(y1_prob)\n",
    "print(f\"Decision Level: {decision_level}\")\n",
    "\n",
    "# Convert probabilities to binary predictions\n",
    "y1_pred = (y1_prob >= decision_level).astype(int).squeeze()\n",
    "\n",
    "# Confusion Matrix\n",
    "cm1 = confusion_matrix(y_val, y1_pred)\n",
    "disp1 = ConfusionMatrixDisplay(cm1)\n",
    "\n",
    "\n",
    "# Classification Report\n",
    "report1 = classification_report(y_val, y1_pred)\n",
    "\n",
    "displayCM = True\n",
    "\n",
    "if displayCM:\n",
    "    disp1.plot()\n",
    "    print(\"Classification Report:\\n\", report1)\n",
    "else:\n",
    "    plt.plot(y1_prob)\n",
    "    plt.show()\n",
    "    plt.plot(y1_pred)\n",
    "    plt.show()"
   ]
  }
 ],
 "metadata": {
  "kernelspec": {
   "display_name": "Python 3",
   "language": "python",
   "name": "python3"
  },
  "language_info": {
   "codemirror_mode": {
    "name": "ipython",
    "version": 3
   },
   "file_extension": ".py",
   "mimetype": "text/x-python",
   "name": "python",
   "nbconvert_exporter": "python",
   "pygments_lexer": "ipython3",
   "version": "3.10.6"
  }
 },
 "nbformat": 4,
 "nbformat_minor": 5
}
