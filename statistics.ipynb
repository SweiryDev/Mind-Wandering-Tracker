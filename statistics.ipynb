{
 "cells": [
  {
   "cell_type": "markdown",
   "id": "b8291503",
   "metadata": {},
   "source": [
    "# Generate an overview of the experiment's data"
   ]
  },
  {
   "cell_type": "markdown",
   "id": "c35d8c8e",
   "metadata": {},
   "source": [
    "Import the data and transform it"
   ]
  },
  {
   "cell_type": "code",
   "execution_count": 5,
   "id": "9c166754",
   "metadata": {},
   "outputs": [],
   "source": [
    "# Imports\n",
    "import numpy as np\n",
    "import pandas as pd\n",
    "\n",
    "import glob\n",
    "import os\n",
    "\n",
    "from transform_data import *\n",
    "\n",
    "# Load the data from the data folder\n",
    "landmarks_files = glob.glob(os.path.join(\"data/\", \"*_landmark.npy\"))\n",
    "distances_files = glob.glob(os.path.join(\"data/\", \"*_distance.npy\"))\n",
    "\n",
    "landmarks_list = [np.load(file) for file in landmarks_files]\n",
    "distances_list = [np.load(file) for file in distances_files]\n"
   ]
  },
  {
   "cell_type": "markdown",
   "id": "2162e779",
   "metadata": {},
   "source": [
    "Create an overview of the data"
   ]
  },
  {
   "cell_type": "code",
   "execution_count": 6,
   "id": "96581a4f",
   "metadata": {},
   "outputs": [
    {
     "name": "stdout",
     "output_type": "stream",
     "text": [
      "Number of self-reports statistics:\n"
     ]
    },
    {
     "data": {
      "text/html": [
       "<div>\n",
       "<style scoped>\n",
       "    .dataframe tbody tr th:only-of-type {\n",
       "        vertical-align: middle;\n",
       "    }\n",
       "\n",
       "    .dataframe tbody tr th {\n",
       "        vertical-align: top;\n",
       "    }\n",
       "\n",
       "    .dataframe thead th {\n",
       "        text-align: right;\n",
       "    }\n",
       "</style>\n",
       "<table border=\"1\" class=\"dataframe\">\n",
       "  <thead>\n",
       "    <tr style=\"text-align: right;\">\n",
       "      <th></th>\n",
       "      <th>0</th>\n",
       "    </tr>\n",
       "  </thead>\n",
       "  <tbody>\n",
       "    <tr>\n",
       "      <th>count</th>\n",
       "      <td>21.000000</td>\n",
       "    </tr>\n",
       "    <tr>\n",
       "      <th>mean</th>\n",
       "      <td>10.285714</td>\n",
       "    </tr>\n",
       "    <tr>\n",
       "      <th>std</th>\n",
       "      <td>10.349603</td>\n",
       "    </tr>\n",
       "    <tr>\n",
       "      <th>min</th>\n",
       "      <td>1.000000</td>\n",
       "    </tr>\n",
       "    <tr>\n",
       "      <th>25%</th>\n",
       "      <td>4.000000</td>\n",
       "    </tr>\n",
       "    <tr>\n",
       "      <th>50%</th>\n",
       "      <td>6.000000</td>\n",
       "    </tr>\n",
       "    <tr>\n",
       "      <th>75%</th>\n",
       "      <td>11.000000</td>\n",
       "    </tr>\n",
       "    <tr>\n",
       "      <th>max</th>\n",
       "      <td>42.000000</td>\n",
       "    </tr>\n",
       "  </tbody>\n",
       "</table>\n",
       "</div>"
      ],
      "text/plain": [
       "               0\n",
       "count  21.000000\n",
       "mean   10.285714\n",
       "std    10.349603\n",
       "min     1.000000\n",
       "25%     4.000000\n",
       "50%     6.000000\n",
       "75%    11.000000\n",
       "max    42.000000"
      ]
     },
     "execution_count": 6,
     "metadata": {},
     "output_type": "execute_result"
    }
   ],
   "source": [
    "import matplotlib.pyplot as plt\n",
    "\n",
    "# Simple function for distances to self-report count\n",
    "def processSignal(signal):\n",
    "    middle_distance = (np.mean(signal) // 2) # Threshold for the binary decision\n",
    "    roundBinary = np.vectorize(lambda t: 1 if (t < middle_distance) else 0)\n",
    "    return count_rep(roundBinary(signal))\n",
    "\n",
    "# List the number of self-reports for each participant\n",
    "self_report_count_df = pd.DataFrame([processSignal(distances) for distances in distances_list])\n",
    "print(\"Number of self-reports statistics:\")\n",
    "self_report_count_df.describe()\n",
    "\n"
   ]
  },
  {
   "cell_type": "code",
   "execution_count": 7,
   "id": "a02294e5",
   "metadata": {},
   "outputs": [
    {
     "data": {
      "image/png": "[encoded data removed]",
      "text/plain": [
       "<Figure size 640x480 with 1 Axes>"
      ]
     },
     "metadata": {},
     "output_type": "display_data"
    }
   ],
   "source": [
    "# Draw histogram of the self-report data\n",
    "plt.hist(self_report_count_df, 20, color='skyblue', edgecolor='black', alpha=0.7)\n",
    "plt.xlabel(\"Number of mind wandering self-reports\", fontsize=16, fontweight='bold')\n",
    "plt.xticks(range(0, 45, 5))\n",
    "plt.ylabel(\"Number of participants\", fontsize=16, fontweight='bold')\n",
    "plt.show()"
   ]
  },
  {
   "cell_type": "code",
   "execution_count": 8,
   "id": "2780cc9d",
   "metadata": {},
   "outputs": [
    {
     "name": "stdout",
     "output_type": "stream",
     "text": [
      "Minutes of reading statistics:\n"
     ]
    },
    {
     "data": {
      "text/html": [
       "<div>\n",
       "<style scoped>\n",
       "    .dataframe tbody tr th:only-of-type {\n",
       "        vertical-align: middle;\n",
       "    }\n",
       "\n",
       "    .dataframe tbody tr th {\n",
       "        vertical-align: top;\n",
       "    }\n",
       "\n",
       "    .dataframe thead th {\n",
       "        text-align: right;\n",
       "    }\n",
       "</style>\n",
       "<table border=\"1\" class=\"dataframe\">\n",
       "  <thead>\n",
       "    <tr style=\"text-align: right;\">\n",
       "      <th></th>\n",
       "      <th>0</th>\n",
       "    </tr>\n",
       "  </thead>\n",
       "  <tbody>\n",
       "    <tr>\n",
       "      <th>count</th>\n",
       "      <td>20.000000</td>\n",
       "    </tr>\n",
       "    <tr>\n",
       "      <th>mean</th>\n",
       "      <td>13.531361</td>\n",
       "    </tr>\n",
       "    <tr>\n",
       "      <th>std</th>\n",
       "      <td>3.137012</td>\n",
       "    </tr>\n",
       "    <tr>\n",
       "      <th>min</th>\n",
       "      <td>8.512778</td>\n",
       "    </tr>\n",
       "    <tr>\n",
       "      <th>25%</th>\n",
       "      <td>11.544028</td>\n",
       "    </tr>\n",
       "    <tr>\n",
       "      <th>50%</th>\n",
       "      <td>13.027778</td>\n",
       "    </tr>\n",
       "    <tr>\n",
       "      <th>75%</th>\n",
       "      <td>14.796944</td>\n",
       "    </tr>\n",
       "    <tr>\n",
       "      <th>max</th>\n",
       "      <td>20.277778</td>\n",
       "    </tr>\n",
       "  </tbody>\n",
       "</table>\n",
       "</div>"
      ],
      "text/plain": [
       "               0\n",
       "count  20.000000\n",
       "mean   13.531361\n",
       "std     3.137012\n",
       "min     8.512778\n",
       "25%    11.544028\n",
       "50%    13.027778\n",
       "75%    14.796944\n",
       "max    20.277778"
      ]
     },
     "execution_count": 8,
     "metadata": {},
     "output_type": "execute_result"
    }
   ],
   "source": [
    "# List the time in minutes of each video (30 fps * 60 seconds per minute)\n",
    "video_length_count_df = pd.DataFrame([(len(distances) / (30 * 60)) for distances in distances_list if len(distances) > (30*60*6)])\n",
    "print(\"Minutes of reading statistics:\")\n",
    "video_length_count_df.describe()\n"
   ]
  }
 ],
 "metadata": {
  "kernelspec": {
   "display_name": "Python 3",
   "language": "python",
   "name": "python3"
  },
  "language_info": {
   "codemirror_mode": {
    "name": "ipython",
    "version": 3
   },
   "file_extension": ".py",
   "mimetype": "text/x-python",
   "name": "python",
   "nbconvert_exporter": "python",
   "pygments_lexer": "ipython3",
   "version": "3.10.6"
  }
 },
 "nbformat": 4,
 "nbformat_minor": 5
}
